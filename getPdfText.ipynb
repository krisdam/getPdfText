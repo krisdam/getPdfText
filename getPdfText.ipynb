import PyPDF2

pdfFileObj = open('filename.pdf', 'rb')
pdfReader = PyPDF2.PdfReader(pdfFileObj)

len(pdfReader.pages)

pageObj = pdfReader.pages[0]
pageObj.extract_text()
